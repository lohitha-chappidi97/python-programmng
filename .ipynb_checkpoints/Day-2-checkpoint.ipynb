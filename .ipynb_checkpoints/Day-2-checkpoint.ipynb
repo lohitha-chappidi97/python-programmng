{
 "cells": [
  {
   "cell_type": "markdown",
   "metadata": {},
   "source": [
    "### Todays concepts\n",
    "- iterations\n",
    "    - repet the same work for number of times\n",
    "    - for loop:\n",
    "        - no of iterations\n",
    "    - while loop:\n",
    "        - condition check\n",
    "- jumping ststements\n",
    "    - break\n",
    "    - continue\n",
    "- functions\n",
    "- strings"
   ]
  },
  {
   "cell_type": "code",
   "execution_count": null,
   "metadata": {},
   "outputs": [],
   "source": [
    "# for \n",
    "# range(srart,final,step)\n",
    "# for var in range(start,final,step):\n",
    "    #statements"
   ]
  },
  {
   "cell_type": "code",
   "execution_count": null,
   "metadata": {},
   "outputs": [],
   "source": [
    "for var in range(0,10,1):\n",
    "    print(\"hello world\")"
   ]
  },
  {
   "cell_type": "code",
   "execution_count": null,
   "metadata": {},
   "outputs": [],
   "source": [
    "for n in range(10):\n",
    "    print(n)"
   ]
  },
  {
   "cell_type": "code",
   "execution_count": null,
   "metadata": {},
   "outputs": [],
   "source": [
    "for i in range(2,11,2):\n",
    "    print(i)"
   ]
  },
  {
   "cell_type": "code",
   "execution_count": null,
   "metadata": {},
   "outputs": [],
   "source": [
    "for i in range(1,10,2):\n",
    "    print(i)"
   ]
  },
  {
   "cell_type": "code",
   "execution_count": null,
   "metadata": {},
   "outputs": [],
   "source": [
    "for i in range(21):\n",
    "    if(i%2==0):\n",
    "        print(i)"
   ]
  },
  {
   "cell_type": "code",
   "execution_count": null,
   "metadata": {},
   "outputs": [],
   "source": [
    "for i in range(21):\n",
    "    if(i%2==0):\n",
    "        print(i,end= '')"
   ]
  },
  {
   "cell_type": "code",
   "execution_count": null,
   "metadata": {},
   "outputs": [],
   "source": [
    "for i in range(21):\n",
    "    if(i%2==0):\n",
    "        print(i,end= '\\t')"
   ]
  },
  {
   "cell_type": "code",
   "execution_count": null,
   "metadata": {},
   "outputs": [],
   "source": [
    "for i in range(21):\n",
    "    if(i%2==0):\n",
    "        print(i,end= ' ')"
   ]
  },
  {
   "cell_type": "code",
   "execution_count": null,
   "metadata": {},
   "outputs": [],
   "source": [
    "t = int(input('enter table number: '))\n",
    "t_l = int(input('enter table length: '))\n",
    "for i in range(1,t_l+1):\n",
    "    #17 * 1 = 17\n",
    "    print('{} * {} = {}'.format(t,i,t*i))"
   ]
  },
  {
   "cell_type": "code",
   "execution_count": null,
   "metadata": {},
   "outputs": [],
   "source": [
    "t = int(input('enter table number: '))\n",
    "t_l = int(input('enter table length: '))\n",
    "for i in range(1,t+1):\n",
    "    for j in range(1,t_l+1):\n",
    "       #17 * 1 = 17\n",
    "       print('{} * {} = {}'.format(i,j,t*i))"
   ]
  },
  {
   "cell_type": "code",
   "execution_count": null,
   "metadata": {},
   "outputs": [],
   "source": [
    "# Factors of a number\n",
    "n = int(input('enter number : '))\n",
    "for i in range(1,n+1):\n",
    "    if(n%i==0):\n",
    "        print(i)"
   ]
  },
  {
   "cell_type": "code",
   "execution_count": null,
   "metadata": {},
   "outputs": [],
   "source": [
    "n = int(input('enter number : '))\n",
    "f_s=0\n",
    "for i in range(1,n):\n",
    "    if(n%i==0):\n",
    "        f_s+=i\n",
    "        print(i,end = ' ')\n",
    "print('sum of factors :',f_s)\n",
    "if(f_s == n):\n",
    "    print('perfect number')\n",
    "else:\n",
    "    print('not a perfect number')"
   ]
  },
  {
   "cell_type": "code",
   "execution_count": null,
   "metadata": {},
   "outputs": [],
   "source": [
    "n = int(input('enter number : '))\n",
    "f_s=0\n",
    "for i in range(1,n):\n",
    "    if(n%i==0):\n",
    "        f_s+=i\n",
    "        print(i,end = ' ')\n",
    "print('sum of factors :',f_s)\n",
    "if(f_s == n):\n",
    "    print('perfect number')\n",
    "else:\n",
    "    print('not a perfect number')"
   ]
  },
  {
   "cell_type": "code",
   "execution_count": null,
   "metadata": {},
   "outputs": [],
   "source": [
    "n=int(input('Enter factorial number: '))\n",
    "fact=1\n",
    "for i in range(1,n+1):\n",
    "    fact*=i#fact=fact*i\n",
    "print(fact)"
   ]
  },
  {
   "cell_type": "code",
   "execution_count": null,
   "metadata": {},
   "outputs": [],
   "source": [
    "# while loop\n",
    "# syntax\n",
    "#while condition:\n",
    "    #statements\n",
    "i = 1\n",
    "while(i<10):\n",
    "    print(i)\n",
    "    i+=1"
   ]
  },
  {
   "cell_type": "code",
   "execution_count": null,
   "metadata": {},
   "outputs": [],
   "source": [
    "i=10\n",
    "while(i>0):\n",
    "    print(i)\n",
    "    i-=1"
   ]
  },
  {
   "cell_type": "code",
   "execution_count": null,
   "metadata": {},
   "outputs": [],
   "source": [
    "i=10\n",
    "for i in range(10,0,-1):\n",
    "    print(i)"
   ]
  },
  {
   "cell_type": "code",
   "execution_count": null,
   "metadata": {},
   "outputs": [],
   "source": [
    "# jumping statements\n",
    "i=1\n",
    "while(i<20):\n",
    "    print(i)\n",
    "    if i == 10:\n",
    "        break\n",
    "    i+=1"
   ]
  },
  {
   "cell_type": "code",
   "execution_count": null,
   "metadata": {},
   "outputs": [],
   "source": [
    "i=1\n",
    "while(i<20):\n",
    "    i+=1\n",
    "    if i == 10:\n",
    "        break\n",
    "    print(i, end = ' ')"
   ]
  },
  {
   "cell_type": "code",
   "execution_count": null,
   "metadata": {},
   "outputs": [],
   "source": [
    "i=1\n",
    "while(i<20):\n",
    "    i+=1\n",
    "    if i == 10:\n",
    "        continue\n",
    "    print(i, end = ' ')"
   ]
  },
  {
   "cell_type": "code",
   "execution_count": null,
   "metadata": {},
   "outputs": [],
   "source": [
    "# functions:\n",
    "# block of statements\n",
    "# 1.code reusability\n",
    "# 2.reduce the size of program\n",
    "# 3.readability\n",
    "# 4.reduce the time\n",
    "# Types of functions\n",
    "# 1.predefined functions\n",
    "# 2.userdefined functions\n",
    "# 3.special/ananoymous functions\n",
    "sum([1,2,3,4,5])"
   ]
  },
  {
   "cell_type": "code",
   "execution_count": null,
   "metadata": {},
   "outputs": [],
   "source": [
    "# userdefined functions\n",
    "# 1.creating a function\n",
    "    #b.function declaration\n",
    "     # def functionName(arg):\n",
    "    #a.function definition\n",
    "     #ststements\n",
    "# 2.function calling:\n",
    "    # by using function name \n",
    "# 3."
   ]
  },
  {
   "cell_type": "code",
   "execution_count": null,
   "metadata": {},
   "outputs": [],
   "source": [
    "def add(a,b):\n",
    "    print(a+b)\n",
    "add(113,67)"
   ]
  },
  {
   "cell_type": "code",
   "execution_count": null,
   "metadata": {},
   "outputs": [],
   "source": [
    "def add(a,b):\n",
    "    return(a+b)"
   ]
  },
  {
   "cell_type": "code",
   "execution_count": null,
   "metadata": {},
   "outputs": [],
   "source": [
    "c=add(234,567)\n",
    "print(c)"
   ]
  },
  {
   "cell_type": "code",
   "execution_count": null,
   "metadata": {},
   "outputs": [],
   "source": [
    "# based on return type\n",
    "#1.without arg and without return value\n",
    "#2.without arg and with return value\n",
    "#3.with arg and without return value\n",
    "#4.with arg and with return value"
   ]
  },
  {
   "cell_type": "code",
   "execution_count": null,
   "metadata": {},
   "outputs": [],
   "source": [
    "#1.without arg and without return value\n",
    "def add():\n",
    "    num1=int(input(\"enter num1: \"))\n",
    "    num2=int(input(\"enter num2: \"))\n",
    "    print(\"sum of \",num1,\"and\",num2,\"is:\",num1+num2)\n",
    "add()"
   ]
  },
  {
   "cell_type": "code",
   "execution_count": null,
   "metadata": {},
   "outputs": [],
   "source": [
    "#2.without arg and with return value\n",
    "def sub():\n",
    "    n1=10\n",
    "    n2=20\n",
    "    print(n1+n2)\n",
    "    return(n1-n2)\n",
    "    \n",
    "dif=sub()\n",
    "print(dif)"
   ]
  },
  {
   "cell_type": "code",
   "execution_count": null,
   "metadata": {},
   "outputs": [],
   "source": [
    "#2.without arg and with return value\n",
    "def sub():\n",
    "    n1=10\n",
    "    n2=20\n",
    "    print(n1+n2)\n",
    "    return(n1-n2)\n",
    "    \n",
    "sub()\n"
   ]
  },
  {
   "cell_type": "code",
   "execution_count": null,
   "metadata": {},
   "outputs": [],
   "source": [
    "#3.with arg and without return value\n",
    "def mul(a,b):\n",
    "   print(a*b)\n",
    "mul(6,4)"
   ]
  },
  {
   "cell_type": "code",
   "execution_count": null,
   "metadata": {},
   "outputs": [],
   "source": [
    "#4.with arg and with return value\n",
    "def div(a,b):\n",
    "    return a,b,a+b,a-b,a/b\n",
    "div(5,9)"
   ]
  },
  {
   "cell_type": "code",
   "execution_count": null,
   "metadata": {},
   "outputs": [],
   "source": [
    "# Based on arg\n",
    "1.default arg\n",
    "2.reqired or positional arg\n",
    "3.Variable length arg\n",
    "4.keyword arg"
   ]
  },
  {
   "cell_type": "code",
   "execution_count": null,
   "metadata": {},
   "outputs": [],
   "source": [
    "#1.default arg\n",
    "def Default(a=10,b=20):\n",
    "    return a+b\n",
    "Default()"
   ]
  },
  {
   "cell_type": "code",
   "execution_count": null,
   "metadata": {},
   "outputs": [],
   "source": [
    "#2.reqired or positional arg\n",
    "def required(a,b,c=30):\n",
    "    return a*b*c\n",
    "required(4,5)"
   ]
  },
  {
   "cell_type": "code",
   "execution_count": null,
   "metadata": {},
   "outputs": [],
   "source": [
    "a=1,2,3,4\n",
    "print(a)"
   ]
  },
  {
   "cell_type": "code",
   "execution_count": null,
   "metadata": {},
   "outputs": [],
   "source": [
    "#3.Variable length arg\n",
    "def Var_len(a,*b):\n",
    "    return(a+sum(b))\n",
    "Var_len(4,5,6)"
   ]
  },
  {
   "cell_type": "code",
   "execution_count": null,
   "metadata": {},
   "outputs": [],
   "source": [
    "#4.keyword arg\n",
    "def keyword(a,b):\n",
    "    return a%b\n",
    "keyword(b = 4,a = 6)"
   ]
  },
  {
   "cell_type": "code",
   "execution_count": null,
   "metadata": {},
   "outputs": [],
   "source": [
    "def keyword(name,college):\n",
    "    print('hello {} welcome to {}'.format(name,college))\n",
    "keyword(college='Pace',name='Lohitha')"
   ]
  },
  {
   "cell_type": "code",
   "execution_count": null,
   "metadata": {},
   "outputs": [],
   "source": [
    "def key(**name):\n",
    "    print(name)\n",
    "key(name=['abc','123','hello'])"
   ]
  },
  {
   "cell_type": "code",
   "execution_count": 17,
   "metadata": {},
   "outputs": [
    {
     "data": {
      "text/plain": [
       "False"
      ]
     },
     "execution_count": 17,
     "metadata": {},
     "output_type": "execute_result"
    }
   ],
   "source": [
    "def Is_prime(n):\n",
    "    if n == 1:\n",
    "        return False\n",
    "    cnt = 0\n",
    "    for i in range(2,n):\n",
    "        if(n%i == 0):\n",
    "            cnt+=1\n",
    "            break\n",
    "    if(cnt == 0):\n",
    "        return True\n",
    "    else:\n",
    "        return False\n",
    "Is_prime(77)"
   ]
  },
  {
   "cell_type": "code",
   "execution_count": 15,
   "metadata": {},
   "outputs": [
    {
     "name": "stdout",
     "output_type": "stream",
     "text": [
      "Enter start value: 1\n",
      "Enter end value: 10\n",
      "2\n",
      "3\n",
      "5\n",
      "7\n"
     ]
    }
   ],
   "source": [
    "def prime_gen(a,b):\n",
    "    for i in range(a,b+1):\n",
    "        if Is_prime(i):\n",
    "            print(i)\n",
    "a=int(input('Enter start value: '))\n",
    "b=int(input('Enter end value: '))\n",
    "prime_gen(a,b)"
   ]
  },
  {
   "cell_type": "code",
   "execution_count": 16,
   "metadata": {},
   "outputs": [
    {
     "name": "stdout",
     "output_type": "stream",
     "text": [
      "Enter start value: 100\n",
      "Enter end value: 150\n",
      "101\n",
      "103\n",
      "107\n",
      "109\n",
      "113\n",
      "127\n",
      "131\n",
      "137\n",
      "139\n",
      "149\n"
     ]
    }
   ],
   "source": [
    "def prime_gen(a,b):\n",
    "    for i in range(a,b+1):\n",
    "        if Is_prime(i):\n",
    "            print(i)\n",
    "a=int(input('Enter start value: '))\n",
    "b=int(input('Enter end value: '))\n",
    "prime_gen(a,b)"
   ]
  },
  {
   "cell_type": "code",
   "execution_count": null,
   "metadata": {},
   "outputs": [],
   "source": []
  }
 ],
 "metadata": {
  "kernelspec": {
   "display_name": "Python 3",
   "language": "python",
   "name": "python3"
  },
  "language_info": {
   "codemirror_mode": {
    "name": "ipython",
    "version": 3
   },
   "file_extension": ".py",
   "mimetype": "text/x-python",
   "name": "python",
   "nbconvert_exporter": "python",
   "pygments_lexer": "ipython3",
   "version": "3.8.5"
  }
 },
 "nbformat": 4,
 "nbformat_minor": 4
}
